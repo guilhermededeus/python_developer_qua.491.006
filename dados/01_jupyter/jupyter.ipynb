{
 "cells": [
  {
   "cell_type": "markdown",
   "id": "8d939df9",
   "metadata": {},
   "source": [
    "# Titulo"
   ]
  },
  {
   "cell_type": "markdown",
   "id": "729eeb71",
   "metadata": {},
   "source": [
    "---"
   ]
  },
  {
   "cell_type": "markdown",
   "id": "83c7f18c",
   "metadata": {},
   "source": [
    "## Subtítulo"
   ]
  },
  {
   "cell_type": "markdown",
   "id": "74751f37",
   "metadata": {},
   "source": [
    "Olá"
   ]
  },
  {
   "cell_type": "markdown",
   "id": "7eccd857",
   "metadata": {},
   "source": [
    "Novo texto"
   ]
  },
  {
   "cell_type": "markdown",
   "id": "8579a918",
   "metadata": {},
   "source": [
    "Exemplificar um código em Python `print(\"Olá, Mundo!\")`"
   ]
  },
  {
   "cell_type": "markdown",
   "id": "f3c8aec5",
   "metadata": {},
   "source": [
    "Código-fonte completo em Java:\n",
    "~~~Java\n",
    "public class App {\n",
    "    public static void main(String[] args) throws Exception {\n",
    "            System.out.println(\"Olá, mundo!\");\n",
    "    }\n",
    "}\n",
    "~~~"
   ]
  },
  {
   "cell_type": "code",
   "execution_count": 2,
   "id": "452c892f",
   "metadata": {},
   "outputs": [
    {
     "name": "stdout",
     "output_type": "stream",
     "text": [
      "Hello, world!\n"
     ]
    }
   ],
   "source": [
    "print(\"Hello, world!\")"
   ]
  },
  {
   "cell_type": "code",
   "execution_count": 3,
   "id": "792a842c",
   "metadata": {},
   "outputs": [],
   "source": [
    "texto = \"Este aqui é um texto!\""
   ]
  },
  {
   "cell_type": "code",
   "execution_count": 4,
   "id": "f5bf6f4a",
   "metadata": {},
   "outputs": [
    {
     "name": "stdout",
     "output_type": "stream",
     "text": [
      "Este aqui é um texto!\n"
     ]
    }
   ],
   "source": [
    "print(texto)"
   ]
  }
 ],
 "metadata": {
  "kernelspec": {
   "display_name": ".venv",
   "language": "python",
   "name": "python3"
  },
  "language_info": {
   "codemirror_mode": {
    "name": "ipython",
    "version": 3
   },
   "file_extension": ".py",
   "mimetype": "text/x-python",
   "name": "python",
   "nbconvert_exporter": "python",
   "pygments_lexer": "ipython3",
   "version": "3.13.4"
  }
 },
 "nbformat": 4,
 "nbformat_minor": 5
}
